{
  "cells": [
    {
      "cell_type": "code",
      "source": [
        "NUM_COLUMN = 5\r\n",
        "NUM_ROW = 5\r\n",
        "MAX_PROB = 8\r\n",
        "# Initialize game state\r\n",
        "movesByTime = []\r\n",
        "movesByColumn = [[] for i in range(NUM_COLUMN)]\r\n",
        "fullColumns = [0 for i in range(NUM_COLUMN)]\r\n",
        "time = 0\r\n",
        "curPlayer = 0"
      ],
      "outputs": [],
      "execution_count": 1,
      "metadata": {
        "jupyter": {
          "source_hidden": false,
          "outputs_hidden": false
        },
        "nteract": {
          "transient": {
            "deleting": false
          }
        }
      }
    },
    {
      "cell_type": "code",
      "source": [
        "class Move:\r\n",
        "    def __init__(self, i, c1, c2, p1, p2, pl):\r\n",
        "        self.index = i\r\n",
        "        # Ensure Column 1 is \"dominant\" in probability; in particular, ensure if\r\n",
        "        # a probability is 0 then it's Prob 2\r\n",
        "        if p1 < p2:\r\n",
        "            c1, c2 = c2, c1\r\n",
        "            p1, p2 = p2, p1\r\n",
        "        self.col1 = c1\r\n",
        "        self.col2 = c2\r\n",
        "        self.prob1 = p1\r\n",
        "        self.prob2 = p2\r\n",
        "        self.player = pl"
      ],
      "outputs": [],
      "execution_count": 16,
      "metadata": {
        "jupyter": {
          "source_hidden": false,
          "outputs_hidden": false
        },
        "nteract": {
          "transient": {
            "deleting": false
          }
        }
      }
    },
    {
      "cell_type": "code",
      "source": [
        "def getMove(pl):\r\n",
        "  global time\r\n",
        "  # Display valid move inputs (which columns are valid? How to input probabilities? What to do if they don't want to use a superposition?)\r\n",
        "\r\n",
        "  legalMoves = []\r\n",
        "  for i in range(NUM_COLUMN):\r\n",
        "    if i not in fullColumns:\r\n",
        "      legalMoves.append(str(i))\r\n",
        "\r\n",
        "  # Prompt for primary column choice\r\n",
        "  print(\"Possible moves:\\n\")\r\n",
        "  print(legalMoves)\r\n",
        "  print(\"Choose a column:\\n\")\r\n",
        "  c1 = input().strip()\r\n",
        "  while c1 not in legalMoves:\r\n",
        "    print(\"Invalid input. Try again.\\n\")\r\n",
        "    print(\"Possible moves:\\n\")\r\n",
        "    print(legalMoves)\r\n",
        "    print(\"Choose a column:\\n\")\r\n",
        "    c1 = input().strip()\r\n",
        "  legalMoves.remove(c1)\r\n",
        "  c1 = int(c1)\r\n",
        "\r\n",
        "  # prompt for option to superimpose another column\r\n",
        "  print(\"Do you want to superimpose another column? (Y/N):\\n\")\r\n",
        "  opt = input().strip().upper()\r\n",
        "  while (opt != 'Y') and (opt != 'N'):\r\n",
        "    print(\"Invalid input. Try again.\\n\")\r\n",
        "    print(\"Do you want to superimpose another column? (Y/N):\\n\")\r\n",
        "    opt = input().strip().upper()\r\n",
        "\r\n",
        "  if opt == 'Y':\r\n",
        "    # prompt for secondary column choice\r\n",
        "    print(\"Possible moves:\\n\")\r\n",
        "    print(legalMoves)\r\n",
        "    print(\"Choose a second column:\\n\")\r\n",
        "    c2 = input().strip()\r\n",
        "    while c2 not in legalMoves:\r\n",
        "      print(\"Invalid input. Try again.\\n\")\r\n",
        "      print(\"Possible moves:\\n\")\r\n",
        "      print(legalMoves)\r\n",
        "      print(\"Choose a second column:\\n\")\r\n",
        "      c2 = input().strip()\r\n",
        "    c2 = int(c2)\r\n",
        "\r\n",
        "    # prompts probability\r\n",
        "    options = range(1, MAX_PROB)\r\n",
        "    legalProbs = \"\"\r\n",
        "    for i in options:\r\n",
        "      legalProbs = legalProbs + f\"({i}): {i}/{MAX_PROB}\\n\"\r\n",
        "    print(\"Enter a probability for the second column:\\n\")\r\n",
        "    print(f\"Choose one: \\n{legalProbs} \\n\")\r\n",
        "    p2 = int(input().strip())\r\n",
        "    while p2 not in options:\r\n",
        "      print(\"Invalid input. Try again.\\n\")\r\n",
        "      print(\"Enter a probability for the second column:\\n\")\r\n",
        "      print(f\"Choose one: {legalProbs} \\n\")\r\n",
        "      p2 = int(input().strip())\r\n",
        "    p1 = 8 - p2\r\n",
        "  else:\r\n",
        "    # when no superposition occurs\r\n",
        "    c2 = c1\r\n",
        "    p1 = MAX_PROB\r\n",
        "    p2 = 0\r\n",
        "\r\n",
        "  newMove = Move(time, c1, c2, p1, 1-p1, pl)\r\n",
        "  movesByTime.append(newMove)\r\n",
        "  movesByColumn[c1].append(newMove.index)\r\n",
        "  if newMove.prob2 > 0:\r\n",
        "    movesByColumn[c2].append(newMove.index)\r\n",
        "  time+=1"
      ],
      "outputs": [],
      "execution_count": 2,
      "metadata": {
        "jupyter": {
          "source_hidden": false,
          "outputs_hidden": false
        },
        "nteract": {
          "transient": {
            "deleting": false
          }
        }
      }
    }
  ],
  "metadata": {
    "language_info": {
      "name": "python",
      "version": "3.7.12",
      "mimetype": "text/x-python",
      "codemirror_mode": {
        "name": "ipython",
        "version": 3
      },
      "pygments_lexer": "ipython3",
      "nbconvert_exporter": "python",
      "file_extension": ".py"
    },
    "kernelspec": {
      "name": "python3",
      "language": "python",
      "display_name": "Python 3 (ipykernel)"
    },
    "kernel_info": {
      "name": "python3"
    },
    "nteract": {
      "version": "nteract-front-end@1.0.0"
    }
  },
  "nbformat": 4,
  "nbformat_minor": 0
}