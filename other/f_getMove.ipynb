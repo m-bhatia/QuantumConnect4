{
  "cells": [
    {
      "cell_type": "code",
      "execution_count": null,
      "metadata": {
        "jupyter": {
          "outputs_hidden": false,
          "source_hidden": false
        },
        "nteract": {
          "transient": {
            "deleting": false
          }
        }
      },
      "outputs": [],
      "source": [
        "NUM_COLUMN = 5\n",
        "NUM_ROW = 5\n",
        "MAX_PROB = 8\n",
        "# Initialize game state\n",
        "movesByTime = []\n",
        "movesByColumn = [[] for i in range(NUM_COLUMN)]\n",
        "fullColumns = [0 for i in range(NUM_COLUMN)]\n",
        "time = 0\n",
        "curPlayer = 0"
      ]
    },
    {
      "cell_type": "code",
      "execution_count": null,
      "metadata": {
        "jupyter": {
          "outputs_hidden": false,
          "source_hidden": false
        },
        "nteract": {
          "transient": {
            "deleting": false
          }
        }
      },
      "outputs": [],
      "source": [
        "class Move:\n",
        "    def __init__(self, i, c1, c2, p1, p2, pl):\n",
        "        self.index = i\n",
        "        # Ensure Column 1 is \"dominant\" in probability; in particular, ensure if\n",
        "        # a probability is 0 then it's Prob 2\n",
        "        if p1 < p2:\n",
        "            c1, c2 = c2, c1\n",
        "            p1, p2 = p2, p1\n",
        "        self.col1 = c1\n",
        "        self.col2 = c2\n",
        "        self.prob1 = p1\n",
        "        self.prob2 = p2\n",
        "        self.player = pl"
      ]
    },
    {
      "cell_type": "code",
      "execution_count": null,
      "metadata": {},
      "outputs": [],
      "source": [
        "def checkMeasure(col):\n",
        "    if len(movesByColumn[col]) == NUM_ROW:\n",
        "        print(\"Column \" + col + \" may be full, measuring...\\n\")\n",
        "        measure(col)\n",
        "        print(\"After measuring, here is the board:\\n\")\n",
        "        displayBoard()\n",
        "        if fullColumns[col]:\n",
        "            print(\"Column \" + col + \" is full!\")\n",
        "            return True\n",
        "    return False"
      ]
    },
    {
      "cell_type": "code",
      "execution_count": null,
      "metadata": {
        "jupyter": {
          "outputs_hidden": false,
          "source_hidden": false
        },
        "nteract": {
          "transient": {
            "deleting": false
          }
        }
      },
      "outputs": [],
      "source": [
        "def getMove(pl):\n",
        "    global time\n",
        "    # Display valid move inputs (which columns are valid? How to input probabilities? What to do if they don't want\n",
        "    # to use a superposition?)\n",
        "\n",
        "    legalMoves = []\n",
        "    for i in range(NUM_COLUMN):\n",
        "        if i not in fullColumns:\n",
        "            legalMoves.append(str(i))\n",
        "\n",
        "    # Prompt for primary column choice\n",
        "    print(\"Possible moves:\\n\")\n",
        "    print(legalMoves)\n",
        "    print(\"Choose a column:\\n\")\n",
        "    c1 = input().strip()\n",
        "    while c1 not in legalMoves:\n",
        "        print(\"Invalid input. Try again.\\n\")\n",
        "        print(\"Possible moves:\\n\")\n",
        "        print(legalMoves)\n",
        "        print(\"Choose a column:\\n\")\n",
        "        c1 = input().strip()\n",
        "    legalMoves.remove(c1)\n",
        "    c1 = int(c1)\n",
        "\n",
        "    # prompt for option to superimpose another column\n",
        "    print(\"Do you want to superimpose another column? (Y/N):\\n\")\n",
        "    opt = input().strip().upper()\n",
        "    while (opt != 'Y') and (opt != 'N'):\n",
        "        print(\"Invalid input. Try again.\\n\")\n",
        "        print(\"Do you want to superimpose another column? (Y/N):\\n\")\n",
        "        opt = input().strip().upper()\n",
        "\n",
        "    if opt == 'Y':\n",
        "        # prompt for secondary column choice\n",
        "        print(\"Possible moves:\\n\")\n",
        "        print(legalMoves)\n",
        "        print(\"Choose a second column:\\n\")\n",
        "        c2 = input().strip()\n",
        "        while c2 not in legalMoves:\n",
        "            print(\"Invalid input. Try again.\\n\")\n",
        "            print(\"Possible moves:\\n\")\n",
        "            print(legalMoves)\n",
        "            print(\"Choose a second column:\\n\")\n",
        "            c2 = input().strip()\n",
        "        c2 = int(c2)\n",
        "\n",
        "        # prompts probability\n",
        "        options = range(1, MAX_PROB)\n",
        "        legalProbs = \"\"\n",
        "        for i in options:\n",
        "            legalProbs = legalProbs + f\"({i}): {i}/{MAX_PROB}\\n\"\n",
        "        print(\"Enter a probability for the second column:\\n\")\n",
        "        print(f\"Choose one: \\n{legalProbs} \\n\")\n",
        "        p2 = int(input().strip())\n",
        "        while p2 not in options:\n",
        "            print(\"Invalid input. Try again.\\n\")\n",
        "            print(\"Enter a probability for the second column:\\n\")\n",
        "            print(f\"Choose one: {legalProbs} \\n\")\n",
        "            p2 = int(input().strip())\n",
        "        p1 = 8 - p2\n",
        "    else:\n",
        "        # when no superposition occurs\n",
        "        c2 = c1\n",
        "        p1 = MAX_PROB\n",
        "        p2 = 0\n",
        "\n",
        "    newMove = Move(time, c1, c2, p1, p2, pl)\n",
        "    # if c1 and c2 are full, a piece is not played\n",
        "    isFull_c1 = checkMeasure(c1)\n",
        "    isFull_c2 = checkMeasure(c2)\n",
        "    if isFull_c1 & isFull_c2:\n",
        "        print(\"Both columns are full! No piece is played. Next player's turn.\")\n",
        "        return\n",
        "    if isFull_c1:\n",
        "        # newMove becomes 100% c2\n",
        "        newMove.col1 = c2\n",
        "        newMove.col2 = c2\n",
        "        newMove.prob1 = MAX_PROB\n",
        "        newMove.prob2 = 0\n",
        "    if isFull_c2:\n",
        "        # newMove becomes 100% c1\n",
        "        newMove.col2 = c1\n",
        "        newMove.prob1 = MAX_PROB\n",
        "        newMove.prob2 = 0\n",
        "\n",
        "    # add to movesByTime\n",
        "    movesByTime.append(newMove)\n",
        "    time += 1\n",
        "    # add to movesByColumn\n",
        "    movesByColumn[c1].append(newMove.index)\n",
        "    if newMove.prob2 > 0:\n",
        "        movesByColumn[c2].append(newMove.index)\n"
      ]
    },
    {
      "cell_type": "code",
      "execution_count": null,
      "metadata": {},
      "outputs": [],
      "source": []
    }
  ],
  "metadata": {
    "kernel_info": {
      "name": "python3"
    },
    "kernelspec": {
      "display_name": "Python 3 (ipykernel)",
      "language": "python",
      "name": "python3"
    },
    "language_info": {
      "codemirror_mode": {
        "name": "ipython",
        "version": 3
      },
      "file_extension": ".py",
      "mimetype": "text/x-python",
      "name": "python",
      "nbconvert_exporter": "python",
      "pygments_lexer": "ipython3",
      "version": "3.8.10"
    },
    "nteract": {
      "version": "nteract-front-end@1.0.0"
    }
  },
  "nbformat": 4,
  "nbformat_minor": 0
}
