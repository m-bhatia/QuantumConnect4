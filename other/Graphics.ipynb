{
 "cells": [
  {
   "cell_type": "code",
   "execution_count": 398,
   "id": "cc11b3e8",
   "metadata": {},
   "outputs": [],
   "source": [
    "import math\n",
    "from PIL import Image\n",
    "\n",
    "num_cols = 5\n",
    "num_rows = 5"
   ]
  },
  {
   "cell_type": "code",
   "execution_count": 399,
   "id": "00ff25e3",
   "metadata": {},
   "outputs": [],
   "source": [
    "movesByColumn =  [['r','b','r'],['b','b'],['r','b','r'],['r','r','b','r'],['b','r','b']]\n",
    "chanceByColumn = [[1,4,3],[1,8],[7,4,5],[8,3,1,8],[7,5,7]]"
   ]
  },
  {
   "cell_type": "code",
   "execution_count": 400,
   "id": "5efab5c9",
   "metadata": {},
   "outputs": [],
   "source": [
    "def get_board_element(prob, player):\n",
    "    square = Image.new(mode=\"RGB\", size=(100, 100))\n",
    "    pixel_map = square.load()\n",
    "    width, height = square.size\n",
    "    for i in range(width):\n",
    "        for j in range(height):\n",
    "\n",
    "            if(math.sqrt((i - width/2)*(i - width/2)+(j - height/2)*(j - height/2)) < width/2):\n",
    "\n",
    "                # RGB value of orange.\n",
    "                pixel_map[i, j] = (255,255,255)\n",
    "                \n",
    "                #if(math.sqrt((i - width/2)*(i - width/2)+(j - height/2)*(j - height/2)) >= (width/2)*(1 - (prob/8))):\n",
    "                if(j > (1 - (prob/8))*height):\n",
    "                    if (player == 'r'):\n",
    "                        pixel_map[i, j] = (224, 90, 55)\n",
    "                    if (player == 'b'):\n",
    "                        pixel_map[i, j] = (62,54,52)\n",
    "                    \n",
    "            # the following else part will fill the\n",
    "            # rest part with color yellow\n",
    "            else:\n",
    "\n",
    "                # RGB value of classic connect4\n",
    "                pixel_map[i, j] = (245,216,75)\n",
    "    return square\n",
    "    "
   ]
  },
  {
   "cell_type": "code",
   "execution_count": 401,
   "id": "73643e07",
   "metadata": {},
   "outputs": [],
   "source": [
    "def get_concat_h(im1, im2):\n",
    "    dst = Image.new('RGB', (im1.width + im2.width, im1.height))\n",
    "    dst.paste(im1, (0, 0))\n",
    "    dst.paste(im2, (im1.width, 0))\n",
    "    return dst"
   ]
  },
  {
   "cell_type": "code",
   "execution_count": 402,
   "id": "67d4c9ea",
   "metadata": {},
   "outputs": [],
   "source": [
    "def get_concat_v(im1, im2):\n",
    "    dst = Image.new('RGB', (im1.width, im1.height + im2.height))\n",
    "    dst.paste(im1, (0, 0))\n",
    "    dst.paste(im2, (0, im1.height))\n",
    "    return dst"
   ]
  },
  {
   "cell_type": "code",
   "execution_count": 403,
   "id": "74796998",
   "metadata": {},
   "outputs": [],
   "source": [
    "def displayBoard():\n",
    "    board = ['0'] * num_cols * num_rows\n",
    "    probabilities = [0] * num_cols * num_rows\n",
    "\n",
    "    for i in range(num_cols):\n",
    "        for j in range(len(movesByColumn[i])):\n",
    "            board[i + (num_rows - 1 - j) * num_cols] = movesByColumn[i][j]\n",
    "            probabilities[i + (num_rows - 1 - j) * num_cols] = chanceByColumn[i][j]\n",
    "    \n",
    "    output = get_board_element(1,board[0])\n",
    "    for i in range(1, num_cols):\n",
    "        output = get_concat_h(output, get_board_element(1,board[i]))\n",
    "        \n",
    "    for j in range(1, num_rows):  \n",
    "        row = get_board_element(1,board[j*num_cols])\n",
    "        for i in range(1, num_cols):\n",
    "            row = get_concat_h(row, get_board_element(probabilities[i + j * num_cols],board[i + j * num_cols]))\n",
    "        output = get_concat_v(output, row)\n",
    "        \n",
    "    display(output)"
   ]
  },
  {
   "cell_type": "code",
   "execution_count": 404,
   "id": "18ff1ed1",
   "metadata": {},
   "outputs": [
    {
     "data": {
      "image/png": "[encoded data removed]",
      "text/plain": [
       "<PIL.Image.Image image mode=RGB size=500x500 at 0x7FE9508034C0>"
      ]
     },
     "metadata": {},
     "output_type": "display_data"
    }
   ],
   "source": [
    "displayBoard()"
   ]
  },
  {
   "cell_type": "code",
   "execution_count": null,
   "id": "45fa14d2",
   "metadata": {},
   "outputs": [],
   "source": []
  }
 ],
 "metadata": {
  "kernelspec": {
   "display_name": "Python 3 (ipykernel)",
   "language": "python",
   "name": "python3"
  },
  "language_info": {
   "codemirror_mode": {
    "name": "ipython",
    "version": 3
   },
   "file_extension": ".py",
   "mimetype": "text/x-python",
   "name": "python",
   "nbconvert_exporter": "python",
   "pygments_lexer": "ipython3",
   "version": "3.9.7"
  }
 },
 "nbformat": 4,
 "nbformat_minor": 5
}
