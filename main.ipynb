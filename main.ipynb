{
 "cells": [
  {
   "cell_type": "markdown",
   "metadata": {},
   "source": [
    "Displaying the Board"
   ]
  },
  {
   "cell_type": "code",
   "execution_count": 1,
   "metadata": {},
   "outputs": [],
   "source": [
    "import math\n",
    "from PIL import Image\n",
    "\n",
    "NUM_COLUMN = 5\n",
    "NUM_ROW = 5"
   ]
  },
  {
   "cell_type": "code",
   "execution_count": 2,
   "metadata": {},
   "outputs": [],
   "source": [
    "def playerToColor(player):\n",
    "  if player == 1: return 'r'\n",
    "  return 'b'"
   ]
  },
  {
   "cell_type": "code",
   "execution_count": 3,
   "metadata": {},
   "outputs": [],
   "source": [
    "def get_board_element(prob, player):\n",
    "    square = Image.new(mode=\"RGB\", size=(100, 100))\n",
    "    pixel_map = square.load()\n",
    "    width, height = square.size\n",
    "    for i in range(width):\n",
    "        for j in range(height):\n",
    "\n",
    "            if(math.sqrt((i - width/2)*(i - width/2)+(j - height/2)*(j - height/2)) < width/2):\n",
    "\n",
    "                # RGB value of orange.\n",
    "                pixel_map[i, j] = (255,255,255)\n",
    "                \n",
    "                #if(math.sqrt((i - width/2)*(i - width/2)+(j - height/2)*(j - height/2)) >= (width/2)*(1 - (prob/8))):\n",
    "                if(j > (1 - (prob/8))*height):\n",
    "                    if (player == 'r'):\n",
    "                        pixel_map[i, j] = (224, 90, 55)\n",
    "                    if (player == 'b'):\n",
    "                        pixel_map[i, j] = (62,54,52)\n",
    "                    \n",
    "            # the following else part will fill the\n",
    "            # rest part with color yellow\n",
    "            else:\n",
    "\n",
    "                # RGB value of classic connect4\n",
    "                pixel_map[i, j] = (245,216,75)\n",
    "    return square"
   ]
  },
  {
   "cell_type": "code",
   "execution_count": 4,
   "metadata": {},
   "outputs": [],
   "source": [
    "def get_concat_h(im1, im2):\n",
    "    dst = Image.new('RGB', (im1.width + im2.width, im1.height))\n",
    "    dst.paste(im1, (0, 0))\n",
    "    dst.paste(im2, (im1.width, 0))\n",
    "    return dst"
   ]
  },
  {
   "cell_type": "code",
   "execution_count": 5,
   "metadata": {},
   "outputs": [],
   "source": [
    "def get_concat_v(im1, im2):\n",
    "    dst = Image.new('RGB', (im1.width, im1.height + im2.height))\n",
    "    dst.paste(im1, (0, 0))\n",
    "    dst.paste(im2, (0, im1.height))\n",
    "    return dst"
   ]
  },
  {
   "cell_type": "code",
   "execution_count": 38,
   "metadata": {},
   "outputs": [],
   "source": [
    "def displayBoard(lastMove):\n",
    "    board = ['0'] * NUM_COLUMN * NUM_ROW\n",
    "    probabilities = [0] * NUM_COLUMN * NUM_ROW\n",
    "\n",
    "    for i in range(NUM_COLUMN):\n",
    "        for j in range(len(movesByColumn[i])):\n",
    "          t = movesByColumn[i][j]\n",
    "          if t > lastMove:\n",
    "            continue\n",
    "          move = movesByTime[t]\n",
    "          board[i + (NUM_ROW - 1 - j) * NUM_COLUMN] = playerToColor(move.player)\n",
    "          if i == move.col1:\n",
    "            probabilities[i + (NUM_ROW - 1 - j) * NUM_COLUMN] = move.prob1\n",
    "          else:\n",
    "            probabilities[i + (NUM_ROW - 1 - j) * NUM_COLUMN] = move.prob2\n",
    "    \n",
    "    output = get_board_element(probabilities[0],board[0])\n",
    "    for i in range(1, NUM_COLUMN):\n",
    "        output = get_concat_h(output, get_board_element(probabilities[i],board[i]))\n",
    "        \n",
    "    for j in range(1, NUM_ROW):  \n",
    "        row = get_board_element(probabilities[j * NUM_COLUMN],board[j*NUM_COLUMN])\n",
    "        for i in range(1, NUM_COLUMN):\n",
    "            row = get_concat_h(row, get_board_element(probabilities[i + j * NUM_COLUMN],board[i + j * NUM_COLUMN]))\n",
    "        output = get_concat_v(output, row)\n",
    "        \n",
    "    display(output)"
   ]
  },
  {
   "cell_type": "markdown",
   "metadata": {},
   "source": [
    "Random Number Generation"
   ]
  },
  {
   "cell_type": "markdown",
   "metadata": {},
   "source": [
    "Version for local testing:"
   ]
  },
  {
   "cell_type": "code",
   "execution_count": 7,
   "metadata": {},
   "outputs": [],
   "source": [
    "import random\n",
    "def get_collapsed_piece(n):\n",
    "  n = (n + 8) % 8\n",
    "  return random.getrandbits(3) >= n"
   ]
  },
  {
   "cell_type": "markdown",
   "metadata": {},
   "source": [
    "Version on the quantum computer:"
   ]
  },
  {
   "cell_type": "code",
   "execution_count": null,
   "metadata": {},
   "outputs": [],
   "source": [
    "def _get_bits_from_counts(counts):\n",
    "    for k, v in counts.items():\n",
    "      if v ==1:\n",
    "          return k"
   ]
  },
  {
   "cell_type": "code",
   "execution_count": null,
   "metadata": {},
   "outputs": [],
   "source": [
    "def _request_bits(n):\n",
    "  global _bitCache\n",
    "  global _circuit\n",
    "  iterations = math.ceil(n * 2/_circuit.width())\n",
    "  for _ in range(iterations):\n",
    "    job = _backend.run(_circuit, shots=1)\n",
    "    _bitCache += _get_bits_from_counts(job.result().get_counts())"
   ]
  },
  {
   "cell_type": "code",
   "execution_count": null,
   "metadata": {},
   "outputs": [],
   "source": [
    "def _get_bit_string(n):\n",
    "  global _bitCache\n",
    "  if len(_bitCache) < n:\n",
    "    _request_bits(n-len(_bitCache)) #request as many bits as we are lacking\n",
    "  bitString = _bitCache[0:n] #result is the first n bits of the bitCache\n",
    "  _bitCache = _bitCache[n:] #delete the first n bits of the bitCache\n",
    "  return bitString"
   ]
  },
  {
   "cell_type": "code",
   "execution_count": null,
   "metadata": {},
   "outputs": [],
   "source": [
    "def get_collapsed_piece(n): # there is a n/8 chance that the piece collapses to left\n",
    "  n = n % 8\n",
    "  measure = _get_bit_string(3)\n",
    "  return measure >= n # 0 is left and 1 is right"
   ]
  },
  {
   "cell_type": "code",
   "execution_count": 8,
   "metadata": {},
   "outputs": [],
   "source": [
    "def measure(col):\n",
    "  movesForCol = movesByColumn[col].copy()\n",
    "  # output: \n",
    "  for t in movesForCol:\n",
    "    move = movesByTime[t]\n",
    "    # If the move is not already collapsed\n",
    "    if move.prob2 != 0:\n",
    "      # Get what the piece collapses to\n",
    "      whichMove = get_collapsed_piece(move.prob1)\n",
    "      # If the piece collapsed to column 2\n",
    "      if whichMove == True:\n",
    "        # Rename so the piece collapsed to \"column 1\" (i.e. swap columns 1 and 2)\n",
    "        move.col1, move.col2 = move.col2, move.col1\n",
    "      # Either way, one probability is 1 and the other is 0\n",
    "      move.prob1, move.prob2 = MAX_PROB, 0\n",
    "      # This move no longer affect column 2\n",
    "      movesByColumn[move.col2].remove(t)\n",
    "  # At this point, all moves in this column are collapsed, so if the columns is still full, mark so!\n",
    "  if len(movesByColumn[col])==NUM_ROW:\n",
    "    fullColumns[col]=1"
   ]
  },
  {
   "cell_type": "markdown",
   "metadata": {},
   "source": [
    "QConnect 4!"
   ]
  },
  {
   "cell_type": "code",
   "execution_count": 9,
   "metadata": {},
   "outputs": [],
   "source": [
    "NUM_COLUMN = 5\n",
    "NUM_ROW = 5\n",
    "MAX_PROB = 8\n",
    "# Initialize game state\n",
    "movesByTime = []\n",
    "movesByColumn = [[] for i in range(NUM_COLUMN)]\n",
    "fullColumns = [0 for i in range(NUM_COLUMN)]\n",
    "time = 0\n",
    "curPlayer = 0"
   ]
  },
  {
   "cell_type": "code",
   "execution_count": 10,
   "metadata": {},
   "outputs": [],
   "source": [
    "def initialize():\n",
    "  global movesByTime, movesByColumn, fullColumns, time, curPlayer\n",
    "  movesByTime = []\n",
    "  movesByColumn = [[] for i in range(NUM_COLUMN)]\n",
    "  fullColumns = [0 for i in range(NUM_COLUMN)]\n",
    "  time = 0\n",
    "  curPlayer = 0"
   ]
  },
  {
   "cell_type": "code",
   "execution_count": 11,
   "metadata": {},
   "outputs": [],
   "source": [
    "class Move:\n",
    "    def __init__(self, i, c1, c2, p1, p2, pl):\n",
    "        self.index = i\n",
    "        # Ensure Column 1 is \"dominant\" in probability; in particular, ensure if\n",
    "        # a probability is 0 then it's Prob 2\n",
    "        if p1 < p2:\n",
    "            c1, c2 = c2, c1\n",
    "            p1, p2 = p2, p1\n",
    "        self.col1 = c1\n",
    "        self.col2 = c2\n",
    "        self.prob1 = p1\n",
    "        self.prob2 = p2\n",
    "        self.player = pl"
   ]
  },
  {
   "cell_type": "code",
   "execution_count": 31,
   "metadata": {},
   "outputs": [],
   "source": [
    "def getMove(pl):\n",
    "  global time\n",
    "  # Display valid move inputs (which columns are valid? How to input probabilities? What to do if they don't want\n",
    "  # to use a superposition?)\n",
    "\n",
    "  legalMoves = []\n",
    "  for i in range(NUM_COLUMN):\n",
    "    if not fullColumns[i]:\n",
    "      legalMoves.append(str(i))\n",
    "\n",
    "  # Prompt for primary column choice\n",
    "  print(\"Possible moves:\\n\")\n",
    "  print(legalMoves)\n",
    "  print(\"Choose a column:\\n\")\n",
    "  c1 = input().strip()\n",
    "  while c1 not in legalMoves:\n",
    "    print(\"Invalid input. Try again.\\n\")\n",
    "    print(\"Possible moves:\\n\")\n",
    "    print(legalMoves)\n",
    "    print(\"Choose a column:\\n\")\n",
    "    c1 = input().strip()\n",
    "  legalMoves.remove(c1)\n",
    "  c1 = int(c1)\n",
    "\n",
    "  # prompt for option to superimpose another column\n",
    "  print(\"Do you want to superimpose another column? (Y/N):\\n\")\n",
    "  opt = input().strip().upper()\n",
    "  while (opt != 'Y') and (opt != 'N'):\n",
    "    print(\"Invalid input. Try again.\\n\")\n",
    "    print(\"Do you want to superimpose another column? (Y/N):\\n\")\n",
    "    opt = input().strip().upper()\n",
    "\n",
    "  if opt == 'Y':\n",
    "    # prompt for secondary column choice\n",
    "    print(\"Possible moves:\\n\")\n",
    "    print(legalMoves)\n",
    "    print(\"Choose a second column:\\n\")\n",
    "    c2 = input().strip()\n",
    "    while c2 not in legalMoves:\n",
    "      print(\"Invalid input. Try again.\\n\")\n",
    "      print(\"Possible moves:\\n\")\n",
    "      print(legalMoves)\n",
    "      print(\"Choose a second column:\\n\")\n",
    "      c2 = input().strip()\n",
    "    c2 = int(c2)\n",
    "\n",
    "    # prompts probability\n",
    "    options = [str(i) for i in range(1, MAX_PROB)]\n",
    "    legalProbs = \"\"\n",
    "    for i in options:\n",
    "      legalProbs = legalProbs + f\"({i}): {i}/{MAX_PROB}\\n\"\n",
    "    print(\"Pick a number from 1 to 7 corresponding to the probability of the second column:\\n\")\n",
    "    print(f\"Available choices: \\n{legalProbs} \\n\")\n",
    "    p2 = input().strip()\n",
    "    while p2 not in options:\n",
    "      print(\"Invalid input. Try again.\\n\")\n",
    "      print(\"Enter a probability for the second column:\\n\")\n",
    "      print(f\"Choose one: {legalProbs} \\n\")\n",
    "      p2 = input().strip()\n",
    "    p2 = int(p2)\n",
    "    p1 = 8 - p2\n",
    "  else:\n",
    "    # when no superposition occurs\n",
    "    c2 = c1\n",
    "    p1 = MAX_PROB\n",
    "    p2 = 0\n",
    "\n",
    "  newMove = Move(time, c1, c2, p1, p2, pl)\n",
    "  # if c1 and c2 are full, a piece is not played\n",
    "  isFull_c1 = checkMeasure(c1)\n",
    "  isFull_c2 = checkMeasure(c2)\n",
    "  # print(isFull_c1)\n",
    "  # print(isFull_c2)\n",
    "  if isFull_c1 & isFull_c2:\n",
    "    print(\"Both columns are full! No piece is played. Unlucky.\\nNext player's turn!\\nInput anything to continue:\\n\")\n",
    "    input()\n",
    "    return\n",
    "  if isFull_c1:\n",
    "    print(\"First column is full! Piece must go in second inputted column.\\nInput anything to continue:\\n\")\n",
    "    input()\n",
    "    # newMove becomes 100% c2\n",
    "    newMove.col1 = c2\n",
    "    newMove.prob1 = MAX_PROB\n",
    "    newMove.prob2 = 0\n",
    "  if isFull_c2:\n",
    "    print(\"Second column is full! Piece must go in first inputted column.\\nInput anything to continue:\\n\")\n",
    "    input()\n",
    "    # newMove becomes 100% c1\n",
    "    newMove.col2 = c1\n",
    "    newMove.prob1 = MAX_PROB\n",
    "    newMove.prob2 = 0\n",
    "\n",
    "  # add to movesByTime\n",
    "  movesByTime.append(newMove)\n",
    "  time += 1\n",
    "  # add to movesByColumn\n",
    "  movesByColumn[newMove.col1].append(newMove.index)\n",
    "  if newMove.prob2 > 0:\n",
    "    movesByColumn[newMove.col2].append(newMove.index)\n",
    "  if len(movesByColumn[newMove.col1]) == NUM_ROW and newMove.prob1 == MAX_PROB:\n",
    "    i = 0\n",
    "    while i < NUM_ROW:\n",
    "      t = movesByColumn[newMove.col1][i]\n",
    "      if movesByTime[t].prob1 < MAX_PROB:\n",
    "        break\n",
    "      i += 1\n",
    "    if i == NUM_ROW:\n",
    "      fullColumns[newMove.col1] = 1\n"
   ]
  },
  {
   "cell_type": "code",
   "execution_count": 13,
   "metadata": {},
   "outputs": [],
   "source": [
    "def checkMeasure(col):\n",
    "  ret=False\n",
    "  if len(movesByColumn[col]) == NUM_ROW:\n",
    "    print(\"Column \" + str(col) + \" may be full, measuring...\\n\")\n",
    "    measure(col)\n",
    "    displayBoard()\n",
    "    if fullColumns[col]:\n",
    "      print(\"Column \" + str(col) + \" is full!\")\n",
    "      ret = True\n",
    "    print(\"After measuring, here is the board. Input anything to continue:\\n\")\n",
    "    input()\n",
    "  return ret"
   ]
  },
  {
   "cell_type": "code",
   "execution_count": 14,
   "metadata": {},
   "outputs": [],
   "source": [
    "def checkDone():\n",
    "  return sum(fullColumns) == NUM_COLUMN"
   ]
  },
  {
   "cell_type": "markdown",
   "metadata": {},
   "source": [
    "Classical Connect 4 at the end..."
   ]
  },
  {
   "cell_type": "code",
   "execution_count": 15,
   "metadata": {},
   "outputs": [],
   "source": [
    "def checkWin(row, col):\n",
    "  assert(0 <= row < NUM_ROW)\n",
    "  assert(0 <= col < NUM_COLUMN)\n",
    "  # Check row for win\n",
    "  x, y=row, row\n",
    "  i = row + 1\n",
    "  while i < NUM_ROW:\n",
    "    if board[i][col] != board[row][col]:\n",
    "      x = i - 1\n",
    "      break\n",
    "    i += 1\n",
    "  if i == NUM_ROW:\n",
    "    x = NUM_ROW - 1\n",
    "  i = row - 1\n",
    "  while i > -1:\n",
    "    if board[i][col] != board[row][col]:\n",
    "      y = i + 1\n",
    "      break\n",
    "    i -= 1\n",
    "  if i == -1:\n",
    "    y = 0\n",
    "  if x - y + 1 >= 4:\n",
    "    # print(\"row\")\n",
    "    return True\n",
    "  \n",
    "  # Check col for win\n",
    "  x, y = col, col\n",
    "  j = col + 1\n",
    "  while j < NUM_COLUMN:\n",
    "    if board[row][j] != board[row][col]:\n",
    "      x = j - 1\n",
    "      break\n",
    "    j += 1\n",
    "  if j == NUM_COLUMN:\n",
    "    x = j - 1\n",
    "  j = col - 1\n",
    "  while j > -1:\n",
    "    if board[row][j] != board[row][col]:\n",
    "      y = j + 1\n",
    "      break\n",
    "    j -= 1\n",
    "  if j == -1:\n",
    "    y = 0\n",
    "  if x - y + 1 >= 4:\n",
    "    # print(\"col\")\n",
    "    return True\n",
    "\n",
    "  # Check diagonal 1 for win\n",
    "  x, y = 0, 0\n",
    "  i = 1\n",
    "  while row + i < NUM_ROW and col+i < NUM_COLUMN:\n",
    "    if board[row + i][col + i] != board[row][col]:\n",
    "      x = i - 1\n",
    "      break\n",
    "    i += 1\n",
    "  if row + i == NUM_ROW or col + i == NUM_COLUMN:\n",
    "    x = i - 1\n",
    "  i = -1\n",
    "  while row + i > -1 and col + i > -1:\n",
    "    if board[row + i][col + i] != board[row][col]:\n",
    "      x = i + 1\n",
    "      break\n",
    "    i -= 1\n",
    "  if row + i == -1 or col + i == -1:\n",
    "    y = i + 1\n",
    "  if x - y + 1 >= 4:\n",
    "    # print(\"d1\")\n",
    "    return True\n",
    "\n",
    "  # Check diagonal 2 for win\n",
    "  x, y = 0, 0\n",
    "  i = 1\n",
    "  while row + i < NUM_ROW and col - i > -1:\n",
    "    if board[row + i][col - i] != board[row][col]:\n",
    "      x = i - 1\n",
    "      break\n",
    "    i += 1\n",
    "  if row + i == NUM_ROW or col - i == -1:\n",
    "    x = i - 1\n",
    "  i = -1\n",
    "  while row + i > -1 and col - i < NUM_COLUMN:\n",
    "    if board[row + i][col - i] != board[row][col]:\n",
    "      x = i + 1\n",
    "      break\n",
    "    i -= 1\n",
    "  if row + i == -1 or col - i == NUM_COLUMN:\n",
    "    y = i + 1\n",
    "  if x - y + 1 >= 4:\n",
    "    # print(\"d2\")\n",
    "    return True\n",
    "\n",
    "  return False"
   ]
  },
  {
   "cell_type": "code",
   "execution_count": 34,
   "metadata": {},
   "outputs": [],
   "source": [
    "def displayClassic(lastMove):\n",
    "  board = ['0'] * NUM_COLUMN * NUM_ROW\n",
    "  probabilities = [0] * NUM_COLUMN * NUM_ROW\n",
    "\n",
    "  for i in range(NUM_COLUMN):\n",
    "      for j in range(len(movesByColumn[i])):\n",
    "        t = movesByColumn[i][j]\n",
    "        if t > lastMove:\n",
    "          continue\n",
    "        move = movesByTime[t]\n",
    "        board[i + (NUM_ROW - 1 - j) * NUM_COLUMN] = playerToColor(move.player)\n",
    "        if i == move.col1:\n",
    "          probabilities[i + (NUM_ROW - 1 - j) * NUM_COLUMN] = move.prob1\n",
    "        else:\n",
    "          probabilities[i + (NUM_ROW - 1 - j) * NUM_COLUMN] = move.prob2\n",
    "  \n",
    "  output = get_board_element(probabilities[0],board[0])\n",
    "  for i in range(1, NUM_COLUMN):\n",
    "      output = get_concat_h(output, get_board_element(probabilities[i],board[i]))\n",
    "      \n",
    "  for j in range(1, NUM_ROW):  \n",
    "      row = get_board_element(probabilities[j * NUM_COLUMN],board[j*NUM_COLUMN])\n",
    "      for i in range(1, NUM_COLUMN):\n",
    "          row = get_concat_h(row, get_board_element(probabilities[i + j * NUM_COLUMN],board[i + j * NUM_COLUMN]))\n",
    "      output = get_concat_v(output, row)\n",
    "      \n",
    "  display(output)"
   ]
  },
  {
   "cell_type": "code",
   "execution_count": 40,
   "metadata": {},
   "outputs": [],
   "source": [
    "def classicConnectFour():\n",
    "  curInColumn = [0 for i in range(NUM_COLUMN)]\n",
    "  winner = -1\n",
    "  t = 0\n",
    "  while t < len(movesByTime):\n",
    "    move = movesByTime[t]\n",
    "    curRow = curInColumn[move.col1]\n",
    "    board[move.col1][curRow]=move.player\n",
    "    curInColumn[move.col1]+=1\n",
    "    if checkWin(move.col1, curRow):\n",
    "      winner = move.player\n",
    "      break\n",
    "    t+=1\n",
    "  displayBoard(min(t,len(movesByTime)-1))\n",
    "  if winner >= 0:\n",
    "    print(\"Player \" + str(winner+1) + \" won! Congrats!\")\n",
    "  else:\n",
    "    print(\"Game was a draw!\")"
   ]
  },
  {
   "cell_type": "code",
   "execution_count": 32,
   "metadata": {},
   "outputs": [
    {
     "data": {
      "image/png": "[encoded data removed]",
      "text/plain": [
       "<PIL.Image.Image image mode=RGB size=500x500 at 0x78CC910>"
      ]
     },
     "metadata": {},
     "output_type": "display_data"
    },
    {
     "data": {
      "image/png": "[encoded data removed]",
      "text/plain": [
       "<PIL.Image.Image image mode=RGB size=500x500 at 0x78CCAC0>"
      ]
     },
     "metadata": {},
     "output_type": "display_data"
    },
    {
     "name": "stdout",
     "output_type": "stream",
     "text": [
      "Player 2 won! Congrats!\n"
     ]
    }
   ],
   "source": [
    "from IPython.display import clear_output\n",
    "# Initial interaction with player(s)\n",
    "print(\"Welcome to Connect 4 - Quantum Edition!\")\n",
    "initialize()\n",
    "displayBoard(-1)\n",
    "while not checkDone():\n",
    "  print(\"Current player's turn: \"+str(curPlayer+1))\n",
    "  getMove(curPlayer)\n",
    "  clear_output(wait=True)\n",
    "  displayBoard(len(movesByTime)-1)\n",
    "  curPlayer = 1-curPlayer\n",
    "# Classic board\n",
    "# NOTE: ELEMENTS ARE INDEXED BY [row][col] NOT THE OTHER WAY AROUND!\n",
    "board = [[-1 for i in range(NUM_COLUMN)] for j in range(NUM_ROW)]\n",
    "classicConnectFour()"
   ]
  }
 ],
 "metadata": {
  "interpreter": {
   "hash": "7a542ca580817fc4dd55327026e074e2fa0cd470fc5dee9350c2d8b13822db8d"
  },
  "kernel_info": {
   "name": "python3"
  },
  "kernelspec": {
   "display_name": "Python 3 (ipykernel)",
   "language": "python",
   "name": "python3"
  },
  "language_info": {
   "codemirror_mode": {
    "name": "ipython",
    "version": 3
   },
   "file_extension": ".py",
   "mimetype": "text/x-python",
   "name": "python",
   "nbconvert_exporter": "python",
   "pygments_lexer": "ipython3",
   "version": "3.9.7"
  },
  "nteract": {
   "version": "nteract-front-end@1.0.0"
  }
 },
 "nbformat": 4,
 "nbformat_minor": 2
}
