{
  "cells": [
    {
      "cell_type": "code",
      "execution_count": 26,
      "metadata": {
        "jupyter": {
          "outputs_hidden": false,
          "source_hidden": false
        },
        "nteract": {
          "transient": {
            "deleting": false
          }
        }
      },
      "outputs": [],
      "source": [
        "import math"
      ]
    },
    {
      "cell_type": "code",
      "execution_count": 27,
      "metadata": {},
      "outputs": [],
      "source": [
        "NUM_COLUMN = 5\n",
        "NUM_ROW = 5\n",
        "MAX_PROB = 8\n",
        "# Initialize game state\n",
        "movesByTime = []\n",
        "movesByColumn = [[] for i in range(NUM_COLUMN)]\n",
        "fullColumns = [0 for i in range(NUM_COLUMN)]\n",
        "time = 0\n",
        "curPlayer = 0"
      ]
    },
    {
      "cell_type": "code",
      "execution_count": 28,
      "metadata": {},
      "outputs": [],
      "source": [
        "class Move:\n",
        "    index, col1, col2, prob1, prob2, player = 0,0,0,0,0,0\n",
        "\n",
        "\n",
        "    def __init__(self, i, c1, c2, p1, p2, pl):\n",
        "        index = i\n",
        "        # Ensure Column 1 is \"dominant\" in probability; in particular, ensure if\n",
        "        # a probability is 0 then it's Prob 2\n",
        "        if p1<p2:\n",
        "          c1, c2 = c2, c1\n",
        "          p1, p2 = p2, p1\n",
        "        col1=c1\n",
        "        col2=c2\n",
        "        prob1=p1\n",
        "        prob2=p2\n",
        "        player = pl"
      ]
    },
    {
      "cell_type": "markdown",
      "metadata": {},
      "source": [
        "RNG SYSTEM THAT WILL USE THE QUANTUM COMPUTER"
      ]
    },
    {
      "cell_type": "code",
      "execution_count": 29,
      "metadata": {},
      "outputs": [],
      "source": [
        "def _get_bits_from_counts(counts):\n",
        "    for k, v in counts.items():\n",
        "        if v ==1:\n",
        "            return k"
      ]
    },
    {
      "cell_type": "code",
      "execution_count": 30,
      "metadata": {},
      "outputs": [],
      "source": [
        "def _request_bits(n):\n",
        "    global _bitCache\n",
        "    global _circuit\n",
        "    iterations = math.ceil(n * 2/_circuit.width())\n",
        "    for _ in range(iterations):\n",
        "        job = _backend.run(_circuit, shots=1)\n",
        "        _bitCache += _get_bits_from_counts(job.result().get_counts())"
      ]
    },
    {
      "cell_type": "code",
      "execution_count": 31,
      "metadata": {},
      "outputs": [],
      "source": [
        "def _get_bit_string(n):\n",
        "    global _bitCache\n",
        "    if len(_bitCache) < n:\n",
        "        _request_bits(n-len(_bitCache)) #request as many bits as we are lacking\n",
        "    bitString = _bitCache[0:n] #result is the first n bits of the bitCache\n",
        "    _bitCache = _bitCache[n:] #delete the first n bits of the bitCache\n",
        "    return bitString"
      ]
    },
    {
      "cell_type": "code",
      "execution_count": 32,
      "metadata": {},
      "outputs": [],
      "source": [
        "def get_collapsed_piece(n): # there is a n/8 chance that the piece collapses to left\n",
        "    n = n % 8\n",
        "    measure = _get_bit_string(3)\n",
        "    return measure >= n # 0 is left and 1 is right"
      ]
    },
    {
      "cell_type": "code",
      "execution_count": 33,
      "metadata": {},
      "outputs": [],
      "source": [
        "def measure(col):\n",
        "    for t in movesByColumn[col]:\n",
        "      move = movesByTime[t]\n",
        "      # If the move is not already collapsed\n",
        "      if move.prob2 != 0:\n",
        "        # Get what the piece collapses to\n",
        "        whichMove = get_collapsed_piece(move.prob1)\n",
        "        # If the piece collapsed to column 2\n",
        "        if whichMove == 1:\n",
        "          # Rename so the piece collapsed to \"column 1\" (i.e. swap columns 1 and 2)\n",
        "          move.col1, move.col2 = move.col2, move.col1\n",
        "        # Either way, one probability is 1 and the other is 0\n",
        "        move.prob1, move.prob2 = MAX_PROB, 0\n",
        "        # This move no longer affect column 2\n",
        "        movesByColumn[move.col2].remove(t)\n",
        "    # At this point, all moves in this column are collapsed, so if the columns is still full, mark so!\n",
        "    if len(movesByColumn[col]==NUM_ROW):\n",
        "      fullColumns[col]=1"
      ]
    },
    {
      "cell_type": "code",
      "execution_count": null,
      "metadata": {
        "jupyter": {
          "outputs_hidden": false,
          "source_hidden": false
        },
        "nteract": {
          "transient": {
            "deleting": false
          }
        }
      },
      "outputs": [],
      "source": []
    },
    {
      "cell_type": "code",
      "execution_count": 34,
      "metadata": {
        "jupyter": {
          "source_hidden": true
        }
      },
      "outputs": [],
      "source": [
        "# def getMove(pl):\n",
        "#   global time\n",
        "#   # Display valid move inputs (which columns are valid? How to input probabilities? What to do if they don't want to use a superposition?)\n",
        "\n",
        "#   legalMoves = []\n",
        "#   for i in range(NUM_COLUMN):\n",
        "#     if i not in fullColumns:\n",
        "#       legalMoves.append(str(i))\n",
        "\n",
        "#   # Prompt user input and process\n",
        "#   print(\"Possible moves:\\n\")\n",
        "#   print(legalMoves)\n",
        "#   print(\"Choose a column:\\n\")\n",
        "#   c1 = input().strip()\n",
        "#   while c1 not in legalMoves:\n",
        "#     print(\"Invalid input. Try again.\\n\")\n",
        "#     print(\"Possible moves:\\n\")\n",
        "#     print(legalMoves)\n",
        "#     print(\"Choose a column:\\n\")\n",
        "#     c1 = input().strip()\n",
        "#   c1 = int(c1)\n",
        "\n",
        "#   print(\"Do you want to superimpose another column? (Y/N):\\n\")\n",
        "#   opt = input().strip().upper()\n",
        "#   while (opt != 'Y') and (opt != 'N'):\n",
        "#     print(\"Invalid input. Try again.\\n\")\n",
        "#     print(\"Do you want to superimpose another column? (Y/N):\\n\")\n",
        "#     opt = input().strip().upper()\n",
        "#   print(\"Choose probability of this column:\\n\")\n",
        "#   # TODO: PROBABILITY\n",
        "\n",
        "#   c2 = c1\n",
        "#   if opt == 'Y':\n",
        "#     print(\"Choose Column 2:\\n\")\n",
        "#     c2 = int(input())\n",
        "#   # Process input\n",
        "\n",
        "#   # Update move lists and time\n",
        "#   if c1 == c2:\n",
        "#     p1 = MAX_PROB\n",
        "#   newMove = Move(time, c1, c2, p1, 1-p1, pl)\n",
        "#   movesByTime.append(newMove)\n",
        "#   movesByColumn[c1].append(newMove.index)\n",
        "#   if newMove.p2 > 0:\n",
        "#     movesByColumn[c2].append(newMove.index)\n",
        "#   time+=1"
      ]
    },
    {
      "cell_type": "code",
      "execution_count": 35,
      "metadata": {},
      "outputs": [],
      "source": [
        "def getMove(pl):\n",
        "  global time\n",
        "  # Display valid move inputs (which columns are valid? How to input probabilities? What to do if they don't want to use a superposition?)\n",
        "\n",
        "  legalMoves = []\n",
        "  for i in range(NUM_COLUMN):\n",
        "    if i not in fullColumns:\n",
        "      legalMoves.append(str(i))\n",
        "\n",
        "  # Prompt for primary column choice\n",
        "  print(\"Possible moves:\\n\")\n",
        "  print(legalMoves)\n",
        "  print(\"Choose a column:\\n\")\n",
        "  c1 = input().strip()\n",
        "  while c1 not in legalMoves:\n",
        "    print(\"Invalid input. Try again.\\n\")\n",
        "    print(\"Possible moves:\\n\")\n",
        "    print(legalMoves)\n",
        "    print(\"Choose a column:\\n\")\n",
        "    c1 = input().strip()\n",
        "  legalMoves.remove(c1)\n",
        "  c1 = int(c1)\n",
        "\n",
        "  # prompt for option to superimpose another column\n",
        "  print(\"Do you want to superimpose another column? (Y/N):\\n\")\n",
        "  opt = input().strip().upper()\n",
        "  while (opt != 'Y') and (opt != 'N'):\n",
        "    print(\"Invalid input. Try again.\\n\")\n",
        "    print(\"Do you want to superimpose another column? (Y/N):\\n\")\n",
        "    opt = input().strip().upper()\n",
        "\n",
        "  if opt == 'Y':\n",
        "    # prompt for secondary column choice\n",
        "    print(\"Possible moves:\\n\")\n",
        "    print(legalMoves)\n",
        "    print(\"Choose a second column:\\n\")\n",
        "    c2 = input().strip()\n",
        "    while c2 not in legalMoves:\n",
        "      print(\"Invalid input. Try again.\\n\")\n",
        "      print(\"Possible moves:\\n\")\n",
        "      print(legalMoves)\n",
        "      print(\"Choose a second column:\\n\")\n",
        "      c2 = input().strip()\n",
        "    c2 = int(c2)\n",
        "\n",
        "    # prompts probability\n",
        "    options = range(1, MAX_PROB)\n",
        "    legalProbs = \"\"\n",
        "    for i in options:\n",
        "      legalProbs = legalProbs + f\"({i}): {i}/{MAX_PROB}\\n\"\n",
        "    print(\"Enter a probability for the second column:\\n\")\n",
        "    print(f\"Choose one: \\n{legalProbs} \\n\")\n",
        "    p2 = int(input().strip())\n",
        "    while p2 not in options:\n",
        "      print(\"Invalid input. Try again.\\n\")\n",
        "      print(\"Enter a probability for the second column:\\n\")\n",
        "      print(f\"Choose one: {legalProbs} \\n\")\n",
        "      p2 = int(input().strip())\n",
        "    p1 = 8 - p2\n",
        "  else:\n",
        "    # when no superposition occurs\n",
        "    c2 = c1\n",
        "    p1 = MAX_PROB\n",
        "    p2 = 0\n",
        "\n",
        "  newMove = Move(time, c1, c2, p1, 1-p1, pl)\n",
        "  movesByTime.append(newMove)\n",
        "  movesByColumn[c1].append(newMove.index)\n",
        "  if newMove.prob2 > 0:\n",
        "    movesByColumn[c2].append(newMove.index)\n",
        "  time+=1"
      ]
    },
    {
      "cell_type": "code",
      "execution_count": 37,
      "metadata": {},
      "outputs": [],
      "source": [
        "def checkMeasure(col):\n",
        "  if len(movesByColumn[col])==NUM_ROW:\n",
        "    print(\"Column \" + col + \" may be full, measuring...\")\n",
        "    measure(col)\n",
        "    print(\"After measuring, here is the board:\")\n",
        "    displayBoard()\n",
        "    if fullColumns[col]:\n",
        "      print(\"Column \" + col + \" is full! Please submit a new move.\")\n",
        "      return False\n",
        "  return True"
      ]
    },
    {
      "cell_type": "code",
      "execution_count": 38,
      "metadata": {},
      "outputs": [],
      "source": [
        "def checkValid(col1, col2, p1):\n",
        "  if p1 > MAX_PROB or p1 < 0: \n",
        "    print(\"Probability invalid!\")\n",
        "    return False\n",
        "  if fullColumns[col1]:\n",
        "    print(\"First column given is full!\")\n",
        "    return False\n",
        "  if fullColumns[col2]:\n",
        "    print(\"Second column given is full!\")\n",
        "    return False\n",
        "  if not checkMeasure(col1):\n",
        "    return False\n",
        "  if not checkMeasure(col2):\n",
        "    return False\n",
        "  return True"
      ]
    },
    {
      "cell_type": "code",
      "execution_count": 39,
      "metadata": {},
      "outputs": [],
      "source": [
        "def displayBoard():\n",
        "    board = ['0'] * num_cols * num_rows\n",
        "\n",
        "    for i in range(num_cols):\n",
        "        for j in range(len(movesByColumn[i])):\n",
        "            board[i + (num_rows - 1 - j) * num_cols] = movesByTime[movesByColumn[i][j]]\n",
        "\n",
        "    for i in range(num_cols * num_rows):\n",
        "        print(board[i] + \" \", end=\"\")\n",
        "        if i % 5 == 4:\n",
        "            print() #newline"
      ]
    },
    {
      "cell_type": "code",
      "execution_count": 40,
      "metadata": {},
      "outputs": [],
      "source": [
        "def checkDone():\n",
        "  return sum(fullColumns) == NUM_COLUMN"
      ]
    },
    {
      "cell_type": "code",
      "execution_count": 41,
      "metadata": {},
      "outputs": [],
      "source": [
        "def checkWin(row, col):\n",
        "  # Check row for win\n",
        "  x,y=row, row\n",
        "  i=row+1\n",
        "  while i<NUM_ROW:\n",
        "    if board[i][col]!=board[row][col]:\n",
        "      x=i-1\n",
        "      break\n",
        "    i+=1\n",
        "  if i==NUM_ROW:\n",
        "    x=i-1\n",
        "  i=row-1\n",
        "  while i>-1:\n",
        "    if board[i][col]!=board[row][col]:\n",
        "      y=i+1\n",
        "      break\n",
        "    i-=1\n",
        "  if i==-1:\n",
        "    y=0\n",
        "  if y-x+1>=4:\n",
        "    return True\n",
        "  \n",
        "  # Check col for win\n",
        "  x,y=col, col\n",
        "  j=col+1\n",
        "  while i<NUM_COLUMN:\n",
        "    if board[row][j]!=board[row][col]:\n",
        "      x=j-1\n",
        "      break\n",
        "    i+=1\n",
        "  if j==NUM_COLUMN:\n",
        "    x=j-1\n",
        "  j=col-1\n",
        "  while j>-1:\n",
        "    if board[row][j]!=board[row][col]:\n",
        "      y=j+1\n",
        "      break\n",
        "    i-=1\n",
        "  if j==-1:\n",
        "    y=0\n",
        "  if y-x+1>=4:\n",
        "    return True\n",
        "\n",
        "  # Check diagonal 1 for win\n",
        "  x,y=0,0\n",
        "  i=1\n",
        "  while row+i<NUM_ROW and col+i<NUM_COLUMN:\n",
        "    if board[row+i][col+i]!=board[row][col]:\n",
        "      x=i-1\n",
        "      break\n",
        "    i+=1\n",
        "  if row+i==NUM_ROW or col+i==NUM_COLUMN:\n",
        "    x=i-1\n",
        "  i=-1\n",
        "  while row+i>-1 and col+i>-1:\n",
        "    if board[row+i][col+i]!=board[row][col]:\n",
        "      x=i+1\n",
        "      break\n",
        "    i-=1\n",
        "  if row+i==-1 or col+i==-1:\n",
        "    y=i+1\n",
        "  if y-x+1>=4:\n",
        "    return True\n",
        "\n",
        "  # Check diagonal 2 for win\n",
        "  x,y=0,0\n",
        "  i=1\n",
        "  while row+i<NUM_ROW and col-i>-1:\n",
        "    if board[row+i][col-i]!=board[row][col]:\n",
        "      x=i-1\n",
        "      break\n",
        "    i+=1\n",
        "  if row+i==NUM_ROW or col-i==-1:\n",
        "    x=i-1\n",
        "  i=-1\n",
        "  while row+i<NUM_ROW and col-i>-1:\n",
        "    if board[row+i][col-i]!=board[row][col]:\n",
        "      x=i+1\n",
        "      break\n",
        "    i-=1\n",
        "  if row+i==-1 or col-i==NUM_COLUMN:\n",
        "    y=i+1\n",
        "  if y-x+1>=4:\n",
        "    return True\n",
        "\n",
        "  return False"
      ]
    },
    {
      "cell_type": "code",
      "execution_count": 42,
      "metadata": {},
      "outputs": [],
      "source": [
        "def classicConnectFour():\n",
        "  curInColumn = [0 for i in range(NUM_COLUMN)]\n",
        "  winner = -1\n",
        "  for t in range(len(movesByTime)):\n",
        "    move = movesByTime[t]\n",
        "    curRow = curInColumn[move.col1]\n",
        "    board[move.col1][curRow]=move.player\n",
        "    curInColumn[move.col1]+=1\n",
        "    if checkWin(curRow, move.col1):\n",
        "      winner = move.player\n",
        "      break\n",
        "  displayClassic()\n",
        "  print(\"Player \" + winner + \" won! Congrats!\")"
      ]
    },
    {
      "cell_type": "code",
      "execution_count": 43,
      "metadata": {},
      "outputs": [
        {
          "name": "stdout",
          "output_type": "stream",
          "text": [
            "Welcome to Connect 4 - Quantum Edition!\n"
          ]
        },
        {
          "ename": "NameError",
          "evalue": "name 'num_cols' is not defined",
          "output_type": "error",
          "traceback": [
            "\u001b[0;31m---------------------------------------------------------------------------\u001b[0m",
            "\u001b[0;31mNameError\u001b[0m                                 Traceback (most recent call last)",
            "\u001b[0;32m/tmp/ipykernel_15893/2581519289.py\u001b[0m in \u001b[0;36m<module>\u001b[0;34m\u001b[0m\n\u001b[1;32m      2\u001b[0m \u001b[0mprint\u001b[0m\u001b[0;34m(\u001b[0m\u001b[0;34m\"Welcome to Connect 4 - Quantum Edition!\"\u001b[0m\u001b[0;34m)\u001b[0m\u001b[0;34m\u001b[0m\u001b[0;34m\u001b[0m\u001b[0m\n\u001b[1;32m      3\u001b[0m \u001b[0;34m\u001b[0m\u001b[0m\n\u001b[0;32m----> 4\u001b[0;31m \u001b[0mdisplayBoard\u001b[0m\u001b[0;34m(\u001b[0m\u001b[0;34m)\u001b[0m\u001b[0;34m\u001b[0m\u001b[0;34m\u001b[0m\u001b[0m\n\u001b[0m\u001b[1;32m      5\u001b[0m \u001b[0;32mwhile\u001b[0m \u001b[0;32mnot\u001b[0m \u001b[0mcheckDone\u001b[0m\u001b[0;34m(\u001b[0m\u001b[0;34m)\u001b[0m\u001b[0;34m:\u001b[0m\u001b[0;34m\u001b[0m\u001b[0;34m\u001b[0m\u001b[0m\n\u001b[1;32m      6\u001b[0m   \u001b[0mgetMove\u001b[0m\u001b[0;34m(\u001b[0m\u001b[0mcurPlayer\u001b[0m\u001b[0;34m)\u001b[0m\u001b[0;34m\u001b[0m\u001b[0;34m\u001b[0m\u001b[0m\n",
            "\u001b[0;32m/tmp/ipykernel_15893/444332405.py\u001b[0m in \u001b[0;36mdisplayBoard\u001b[0;34m()\u001b[0m\n\u001b[1;32m      1\u001b[0m \u001b[0;32mdef\u001b[0m \u001b[0mdisplayBoard\u001b[0m\u001b[0;34m(\u001b[0m\u001b[0;34m)\u001b[0m\u001b[0;34m:\u001b[0m\u001b[0;34m\u001b[0m\u001b[0;34m\u001b[0m\u001b[0m\n\u001b[0;32m----> 2\u001b[0;31m     \u001b[0mboard\u001b[0m \u001b[0;34m=\u001b[0m \u001b[0;34m[\u001b[0m\u001b[0;34m'0'\u001b[0m\u001b[0;34m]\u001b[0m \u001b[0;34m*\u001b[0m \u001b[0mnum_cols\u001b[0m \u001b[0;34m*\u001b[0m \u001b[0mnum_rows\u001b[0m\u001b[0;34m\u001b[0m\u001b[0;34m\u001b[0m\u001b[0m\n\u001b[0m\u001b[1;32m      3\u001b[0m \u001b[0;34m\u001b[0m\u001b[0m\n\u001b[1;32m      4\u001b[0m     \u001b[0;32mfor\u001b[0m \u001b[0mi\u001b[0m \u001b[0;32min\u001b[0m \u001b[0mrange\u001b[0m\u001b[0;34m(\u001b[0m\u001b[0mnum_cols\u001b[0m\u001b[0;34m)\u001b[0m\u001b[0;34m:\u001b[0m\u001b[0;34m\u001b[0m\u001b[0;34m\u001b[0m\u001b[0m\n\u001b[1;32m      5\u001b[0m         \u001b[0;32mfor\u001b[0m \u001b[0mj\u001b[0m \u001b[0;32min\u001b[0m \u001b[0mrange\u001b[0m\u001b[0;34m(\u001b[0m\u001b[0mlen\u001b[0m\u001b[0;34m(\u001b[0m\u001b[0mmovesByColumn\u001b[0m\u001b[0;34m[\u001b[0m\u001b[0mi\u001b[0m\u001b[0;34m]\u001b[0m\u001b[0;34m)\u001b[0m\u001b[0;34m)\u001b[0m\u001b[0;34m:\u001b[0m\u001b[0;34m\u001b[0m\u001b[0;34m\u001b[0m\u001b[0m\n",
            "\u001b[0;31mNameError\u001b[0m: name 'num_cols' is not defined"
          ]
        }
      ],
      "source": [
        "# Initial interaction with player(s)\n",
        "print(\"Welcome to Connect 4 - Quantum Edition!\")\n",
        "\n",
        "displayBoard()\n",
        "while not checkDone():\n",
        "  getMove(curPlayer)\n",
        "  curPlayer = 1-curPlayer\n",
        "# Classic board\n",
        "# NOTE: ELEMENTS ARE INDEXED BY [row][col] NOT THE OTHER WAY AROUND!\n",
        "board = [[-1 for i in range(NUM_COLUMN)] for j in range(NUM_ROW)]\n",
        "classicConnectFour()"
      ]
    }
  ],
  "metadata": {
    "interpreter": {
      "hash": "7a542ca580817fc4dd55327026e074e2fa0cd470fc5dee9350c2d8b13822db8d"
    },
    "kernel_info": {
      "name": "python3"
    },
    "kernelspec": {
      "display_name": "Python 3 (ipykernel)",
      "language": "python",
      "name": "python3"
    },
    "language_info": {
      "codemirror_mode": {
        "name": "ipython",
        "version": 3
      },
      "file_extension": ".py",
      "mimetype": "text/x-python",
      "name": "python",
      "nbconvert_exporter": "python",
      "pygments_lexer": "ipython3",
      "version": "3.7.12"
    },
    "nteract": {
      "version": "nteract-front-end@1.0.0"
    },
    "orig_nbformat": 4
  },
  "nbformat": 4,
  "nbformat_minor": 2
}
